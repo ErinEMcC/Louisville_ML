{
 "cells": [
  {
   "cell_type": "markdown",
   "metadata": {},
   "source": [
    "# Machine Learning w/Python 3.7"
   ]
  },
  {
   "cell_type": "markdown",
   "metadata": {},
   "source": [
    "## Importing Python Packages / Modules"
   ]
  },
  {
   "cell_type": "markdown",
   "metadata": {},
   "source": [
    "### Packages Overview\n",
    "* The Natural Language Toolkit (nltk) - we'll be accessing corpora as well as functional tools from this package.\n",
    "    * The Brown Corpus: A text corpus of American English, split into fifteen different categories\n",
    "    * Part of Speech Taggers (pos): prebuilt functions that are designed to determine the part of speech of every word in a given sentence.\n",
    "* pandas - for data processing    \n",
    "* matplotlib - for visualizing data (%matplotlib inline - displays images clearly in the Jupyter notebook)\n",
    "* scikit-learn - for machine learning (ft. various classification, regression and clustering algorithms)"
   ]
  },
  {
   "cell_type": "code",
   "execution_count": null,
   "metadata": {},
   "outputs": [],
   "source": [
    "import nltk\n",
    "from nltk.corpus import brown\n",
    "from nltk import pos_tag_sents\n",
    "import pandas as pd\n",
    "import matplotlib.pyplot as plt\n",
    "%matplotlib inline\n",
    "import sklearn"
   ]
  },
  {
   "cell_type": "markdown",
   "metadata": {},
   "source": [
    "## Understanding Classification"
   ]
  },
  {
   "cell_type": "markdown",
   "metadata": {},
   "source": [
    "## Accessing our Data"
   ]
  },
  {
   "cell_type": "code",
   "execution_count": null,
   "metadata": {},
   "outputs": [],
   "source": [
    "for cat in brown.categories():\n",
    "    print (cat)"
   ]
  },
  {
   "cell_type": "code",
   "execution_count": null,
   "metadata": {},
   "outputs": [],
   "source": [
    "news_sent = brown.sents(categories=[\"news\"])\n",
    "romance_sent = brown.sents(categories=[\"romance\"])"
   ]
  },
  {
   "cell_type": "code",
   "execution_count": null,
   "metadata": {},
   "outputs": [],
   "source": [
    "print (news_sent[:5])\n",
    "print ()\n",
    "print (romance_sent[:5])"
   ]
  },
  {
   "cell_type": "code",
   "execution_count": null,
   "metadata": {},
   "outputs": [],
   "source": [
    "ndf = pd.DataFrame({'sentence': news_sent,\n",
    "                    'label':'news'})\n",
    "rdf = pd.DataFrame({'sentence':romance_sent, \n",
    "                    'label':'romance'})"
   ]
  },
  {
   "cell_type": "code",
   "execution_count": null,
   "metadata": {},
   "outputs": [],
   "source": [
    "# combining two spreadsheets into 1\n",
    "df = pd.concat([ndf, rdf])"
   ]
  },
  {
   "cell_type": "markdown",
   "metadata": {},
   "source": [
    "## Extracting Features from our Data"
   ]
  },
  {
   "cell_type": "markdown",
   "metadata": {},
   "source": [
    "## Supervised Machine Learning\n",
    "\n",
    "Supervised machine learning takes places in two steps: the training phase, and the testing phase. In the training phase, you use a portion of your data to train your algorithm (which, in our case, is a classification algorithm). You provide both your feature vector and your labels to the algorithm, and the algorithm searches for patterns in your data that can help associate it with a particular label.\n",
    "\n",
    "In the testing phase, we use the classifier we trained in the previous step, and give it previously unseen feature vectors representing unseen data to the algorithm, and have the algorithm predict the label. We can then compare the \"true\" label to the predicted label, and see if our classifier provides us with a good and generalizable way of accomplishing the task (in our case, the task of automatically distinguishing news sentences from romance sentences)."
   ]
  },
  {
   "cell_type": "markdown",
   "metadata": {},
   "source": [
    "## Unsupervised Machine Learning\n",
    "\n",
    "In supervised machine learning tasks, the data is assigned to some set of classes. For example, here we are given a dataset wherein each observation is a set of physical attributes of an object. In an supervised task, the object column acts as the labels. The algorithm then uses these existing separations in the data to develop criteria for classifying unknown observations in the data."
   ]
  },
  {
   "cell_type": "markdown",
   "metadata": {},
   "source": [
    "## Review\n",
    "\n",
    "At the end of this workshop, we have covered the following skills:\n",
    "* How to use skills from the NLTK workshop to build features for a classification task\n",
    "* How to build a text classification system that can predict whether sentences belong to one category (\"news\") or another (\"romance\")\n",
    "* How to group data and perform calculations on the aggregations\n",
    "* How to prepare data for machine learning using pandas, a package for Python that helps to organize your data\n",
    "* How to use the scikit-learn package for Python to perform different types of machine learning on the data\n",
    "* How to evaluate the results of machine learning algorithms\n",
    "* How to visualize observations, aggregations, and algorithmic results\n",
    "\n",
    "## Resources\n",
    "\"Introduction to Machine Learning with Python\", Andreas C. Muller and Sarah Guido. O'Reilly, 2017.\n",
    "\n",
    "\"LING 83800: Methods in Computational Linguistics II\", Andrew Rosenberg. http://eniac.cs.qc.cuny.edu/andrew/methods2/, 2014.\n",
    "\n",
    "\"Introduction to Latent Dirichlet Allocation\", Edward Chen, http://blog.echen.me/2011/08/22/introduction-to-latent-dirichlet-allocation/, 08/22/2011\n",
    "\n",
    "\"Topic Modeling for Humanists: A Guided Tour\", Scott Weingart, http://www.scottbot.net/HIAL/index.html@p=19113.html, 07/25/2012\n",
    "\n",
    "\"The LDA Buffet is Now Open\", Matthew Jockers, http://www.matthewjockers.net/2011/09/29/the-lda-buffet-is-now-open-or-latent-dirichlet-allocation-for-english-majors/, 09/29/2011\n",
    "\n",
    "\"Introduction to Topic Modeling\",Christine Doig, http://chdoig.github.io/pytexas2015-topic-modeling/#/, PyTexas, 2015\n",
    "\n",
    "##### Acknowledgments\n",
    "Shout out to the CUNY DHRI for providing much of this workshop's structure.\n"
   ]
  }
 ],
 "metadata": {
  "kernelspec": {
   "display_name": "Python 3",
   "language": "python",
   "name": "python3"
  },
  "language_info": {
   "codemirror_mode": {
    "name": "ipython",
    "version": 3
   },
   "file_extension": ".py",
   "mimetype": "text/x-python",
   "name": "python",
   "nbconvert_exporter": "python",
   "pygments_lexer": "ipython3",
   "version": "3.7.0"
  }
 },
 "nbformat": 4,
 "nbformat_minor": 2
}
